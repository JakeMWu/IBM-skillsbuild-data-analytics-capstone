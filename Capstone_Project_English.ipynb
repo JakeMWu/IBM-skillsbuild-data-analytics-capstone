{
 "cells": [
  {
   "cell_type": "markdown",
   "id": "5daa76fe",
   "metadata": {},
   "source": [
    "<center><h1>Capstone Project Creation</h1></center>\n",
    "<center><h3>IBM SkillsBuild Europe Delivery - Data Analytics</h3></center>\n"
   ]
  },
  {
   "cell_type": "markdown",
   "id": "ce8639cb",
   "metadata": {},
   "source": [
    "### Data Analytics of Airbnb Data:\n",
    "\n",
    "#### Objective:\n",
    "\n",
    "In this excercise, you will be performing Data Analytics on an Open Dataset dataset coming from Airbnb. Some of the tasks include\n",
    "- Data Cleaning.\n",
    "- Data Transformation\n",
    "- Data Visualization.\n",
    "\n",
    "#### Overview of Airbnb Data:\n",
    "\n",
    "People's main criteria when visiting new places are reasonable accommodation and food. Airbnb (Air-Bed-Breakfast) is an online marketplace created to meet this need of people by renting out their homes for a short term. They offer this facility at a relatively lower price than hotels. Further people worldwide prefer the homely and economical service offered by them. They offer services across various geographical locations\n",
    "\n",
    "#### Dataset Source\n",
    "\n",
    "You can get the dataset for this assessment using the following link: https://www.kaggle.com/datasets/arianazmoudeh/airbnbopendata\n",
    "\n",
    "This dataset contains information such as the neighborhood offering these services, room type, price, availability, reviews, service fee, cancellation policy and rules to use the house. This analysis will help airbnb in improving its services.  \n",
    "\n",
    "So all the best for your Data Analytics Journey on Airbnb data!!!"
   ]
  },
  {
   "cell_type": "markdown",
   "id": "9a86cf69",
   "metadata": {},
   "source": [
    "## Task 1: Data Loading (Python)\n",
    "\n",
    "1. Read the csv file and load it into a pandas dataframe.\n",
    "2. Display the first five rows of your dataframe.\n",
    "3. Display the data types of the columns."
   ]
  },
  {
   "cell_type": "code",
   "execution_count": 1,
   "id": "5c3f1dc3-637c-459d-9b17-8c0cfb0db9e2",
   "metadata": {},
   "outputs": [],
   "source": [
    "import pandas as pd\n",
    "import numpy as np\n",
    "import matplotlib.pyplot as plt\n",
    "%matplotlib inline\n",
    "import seaborn as sns\n",
    "from sklearn.linear_model import LinearRegression"
   ]
  },
  {
   "cell_type": "code",
   "execution_count": 2,
   "id": "f4877ff8-9663-4ced-ab06-2863d9fb6237",
   "metadata": {},
   "outputs": [],
   "source": [
    "sns.set_style(\"ticks\")\n",
    "sns.set_palette(\"pastel\")\n",
    "sns.set_context(\"notebook\")\n",
    "sns.set_theme(style=\"darkgrid\")"
   ]
  },
  {
   "cell_type": "code",
   "execution_count": 3,
   "id": "3e5ea376",
   "metadata": {},
   "outputs": [],
   "source": [
    "df = pd.read_csv(\"Airbnb_Open_Data.csv\", low_memory=False)"
   ]
  },
  {
   "cell_type": "code",
   "execution_count": 4,
   "id": "18c08d94",
   "metadata": {},
   "outputs": [
    {
     "data": {
      "text/html": [
       "<div>\n",
       "<style scoped>\n",
       "    .dataframe tbody tr th:only-of-type {\n",
       "        vertical-align: middle;\n",
       "    }\n",
       "\n",
       "    .dataframe tbody tr th {\n",
       "        vertical-align: top;\n",
       "    }\n",
       "\n",
       "    .dataframe thead th {\n",
       "        text-align: right;\n",
       "    }\n",
       "</style>\n",
       "<table border=\"1\" class=\"dataframe\">\n",
       "  <thead>\n",
       "    <tr style=\"text-align: right;\">\n",
       "      <th></th>\n",
       "      <th>id</th>\n",
       "      <th>NAME</th>\n",
       "      <th>host id</th>\n",
       "      <th>host_identity_verified</th>\n",
       "      <th>host name</th>\n",
       "      <th>neighbourhood group</th>\n",
       "      <th>neighbourhood</th>\n",
       "      <th>lat</th>\n",
       "      <th>long</th>\n",
       "      <th>country</th>\n",
       "      <th>...</th>\n",
       "      <th>service fee</th>\n",
       "      <th>minimum nights</th>\n",
       "      <th>number of reviews</th>\n",
       "      <th>last review</th>\n",
       "      <th>reviews per month</th>\n",
       "      <th>review rate number</th>\n",
       "      <th>calculated host listings count</th>\n",
       "      <th>availability 365</th>\n",
       "      <th>house_rules</th>\n",
       "      <th>license</th>\n",
       "    </tr>\n",
       "  </thead>\n",
       "  <tbody>\n",
       "    <tr>\n",
       "      <th>0</th>\n",
       "      <td>1001254</td>\n",
       "      <td>Clean &amp; quiet apt home by the park</td>\n",
       "      <td>80014485718</td>\n",
       "      <td>unconfirmed</td>\n",
       "      <td>Madaline</td>\n",
       "      <td>Brooklyn</td>\n",
       "      <td>Kensington</td>\n",
       "      <td>40.64749</td>\n",
       "      <td>-73.97237</td>\n",
       "      <td>United States</td>\n",
       "      <td>...</td>\n",
       "      <td>$193</td>\n",
       "      <td>10.0</td>\n",
       "      <td>9.0</td>\n",
       "      <td>10/19/2021</td>\n",
       "      <td>0.21</td>\n",
       "      <td>4.0</td>\n",
       "      <td>6.0</td>\n",
       "      <td>286.0</td>\n",
       "      <td>Clean up and treat the home the way you'd like...</td>\n",
       "      <td>NaN</td>\n",
       "    </tr>\n",
       "    <tr>\n",
       "      <th>1</th>\n",
       "      <td>1002102</td>\n",
       "      <td>Skylit Midtown Castle</td>\n",
       "      <td>52335172823</td>\n",
       "      <td>verified</td>\n",
       "      <td>Jenna</td>\n",
       "      <td>Manhattan</td>\n",
       "      <td>Midtown</td>\n",
       "      <td>40.75362</td>\n",
       "      <td>-73.98377</td>\n",
       "      <td>United States</td>\n",
       "      <td>...</td>\n",
       "      <td>$28</td>\n",
       "      <td>30.0</td>\n",
       "      <td>45.0</td>\n",
       "      <td>5/21/2022</td>\n",
       "      <td>0.38</td>\n",
       "      <td>4.0</td>\n",
       "      <td>2.0</td>\n",
       "      <td>228.0</td>\n",
       "      <td>Pet friendly but please confirm with me if the...</td>\n",
       "      <td>NaN</td>\n",
       "    </tr>\n",
       "    <tr>\n",
       "      <th>2</th>\n",
       "      <td>1002403</td>\n",
       "      <td>THE VILLAGE OF HARLEM....NEW YORK !</td>\n",
       "      <td>78829239556</td>\n",
       "      <td>NaN</td>\n",
       "      <td>Elise</td>\n",
       "      <td>Manhattan</td>\n",
       "      <td>Harlem</td>\n",
       "      <td>40.80902</td>\n",
       "      <td>-73.94190</td>\n",
       "      <td>United States</td>\n",
       "      <td>...</td>\n",
       "      <td>$124</td>\n",
       "      <td>3.0</td>\n",
       "      <td>0.0</td>\n",
       "      <td>NaN</td>\n",
       "      <td>NaN</td>\n",
       "      <td>5.0</td>\n",
       "      <td>1.0</td>\n",
       "      <td>352.0</td>\n",
       "      <td>I encourage you to use my kitchen, cooking and...</td>\n",
       "      <td>NaN</td>\n",
       "    </tr>\n",
       "    <tr>\n",
       "      <th>3</th>\n",
       "      <td>1002755</td>\n",
       "      <td>NaN</td>\n",
       "      <td>85098326012</td>\n",
       "      <td>unconfirmed</td>\n",
       "      <td>Garry</td>\n",
       "      <td>Brooklyn</td>\n",
       "      <td>Clinton Hill</td>\n",
       "      <td>40.68514</td>\n",
       "      <td>-73.95976</td>\n",
       "      <td>United States</td>\n",
       "      <td>...</td>\n",
       "      <td>$74</td>\n",
       "      <td>30.0</td>\n",
       "      <td>270.0</td>\n",
       "      <td>7/5/2019</td>\n",
       "      <td>4.64</td>\n",
       "      <td>4.0</td>\n",
       "      <td>1.0</td>\n",
       "      <td>322.0</td>\n",
       "      <td>NaN</td>\n",
       "      <td>NaN</td>\n",
       "    </tr>\n",
       "    <tr>\n",
       "      <th>4</th>\n",
       "      <td>1003689</td>\n",
       "      <td>Entire Apt: Spacious Studio/Loft by central park</td>\n",
       "      <td>92037596077</td>\n",
       "      <td>verified</td>\n",
       "      <td>Lyndon</td>\n",
       "      <td>Manhattan</td>\n",
       "      <td>East Harlem</td>\n",
       "      <td>40.79851</td>\n",
       "      <td>-73.94399</td>\n",
       "      <td>United States</td>\n",
       "      <td>...</td>\n",
       "      <td>$41</td>\n",
       "      <td>10.0</td>\n",
       "      <td>9.0</td>\n",
       "      <td>11/19/2018</td>\n",
       "      <td>0.10</td>\n",
       "      <td>3.0</td>\n",
       "      <td>1.0</td>\n",
       "      <td>289.0</td>\n",
       "      <td>Please no smoking in the house, porch or on th...</td>\n",
       "      <td>NaN</td>\n",
       "    </tr>\n",
       "  </tbody>\n",
       "</table>\n",
       "<p>5 rows × 26 columns</p>\n",
       "</div>"
      ],
      "text/plain": [
       "        id                                              NAME      host id  \\\n",
       "0  1001254                Clean & quiet apt home by the park  80014485718   \n",
       "1  1002102                             Skylit Midtown Castle  52335172823   \n",
       "2  1002403               THE VILLAGE OF HARLEM....NEW YORK !  78829239556   \n",
       "3  1002755                                               NaN  85098326012   \n",
       "4  1003689  Entire Apt: Spacious Studio/Loft by central park  92037596077   \n",
       "\n",
       "  host_identity_verified host name neighbourhood group neighbourhood  \\\n",
       "0            unconfirmed  Madaline            Brooklyn    Kensington   \n",
       "1               verified     Jenna           Manhattan       Midtown   \n",
       "2                    NaN     Elise           Manhattan        Harlem   \n",
       "3            unconfirmed     Garry            Brooklyn  Clinton Hill   \n",
       "4               verified    Lyndon           Manhattan   East Harlem   \n",
       "\n",
       "        lat      long        country  ... service fee minimum nights  \\\n",
       "0  40.64749 -73.97237  United States  ...       $193            10.0   \n",
       "1  40.75362 -73.98377  United States  ...        $28            30.0   \n",
       "2  40.80902 -73.94190  United States  ...       $124             3.0   \n",
       "3  40.68514 -73.95976  United States  ...        $74            30.0   \n",
       "4  40.79851 -73.94399  United States  ...        $41            10.0   \n",
       "\n",
       "  number of reviews last review  reviews per month review rate number  \\\n",
       "0               9.0  10/19/2021               0.21                4.0   \n",
       "1              45.0   5/21/2022               0.38                4.0   \n",
       "2               0.0         NaN                NaN                5.0   \n",
       "3             270.0    7/5/2019               4.64                4.0   \n",
       "4               9.0  11/19/2018               0.10                3.0   \n",
       "\n",
       "  calculated host listings count  availability 365  \\\n",
       "0                            6.0             286.0   \n",
       "1                            2.0             228.0   \n",
       "2                            1.0             352.0   \n",
       "3                            1.0             322.0   \n",
       "4                            1.0             289.0   \n",
       "\n",
       "                                         house_rules license  \n",
       "0  Clean up and treat the home the way you'd like...     NaN  \n",
       "1  Pet friendly but please confirm with me if the...     NaN  \n",
       "2  I encourage you to use my kitchen, cooking and...     NaN  \n",
       "3                                                NaN     NaN  \n",
       "4  Please no smoking in the house, porch or on th...     NaN  \n",
       "\n",
       "[5 rows x 26 columns]"
      ]
     },
     "execution_count": 4,
     "metadata": {},
     "output_type": "execute_result"
    }
   ],
   "source": [
    "## Display the first 5 rows\n",
    "df.head()"
   ]
  },
  {
   "cell_type": "code",
   "execution_count": 5,
   "id": "0e61d56e",
   "metadata": {},
   "outputs": [
    {
     "data": {
      "text/plain": [
       "id                                  int64\n",
       "NAME                               object\n",
       "host id                             int64\n",
       "host_identity_verified             object\n",
       "host name                          object\n",
       "neighbourhood group                object\n",
       "neighbourhood                      object\n",
       "lat                               float64\n",
       "long                              float64\n",
       "country                            object\n",
       "country code                       object\n",
       "instant_bookable                   object\n",
       "cancellation_policy                object\n",
       "room type                          object\n",
       "Construction year                 float64\n",
       "price                              object\n",
       "service fee                        object\n",
       "minimum nights                    float64\n",
       "number of reviews                 float64\n",
       "last review                        object\n",
       "reviews per month                 float64\n",
       "review rate number                float64\n",
       "calculated host listings count    float64\n",
       "availability 365                  float64\n",
       "house_rules                        object\n",
       "license                            object\n",
       "dtype: object"
      ]
     },
     "execution_count": 5,
     "metadata": {},
     "output_type": "execute_result"
    }
   ],
   "source": [
    "## Display the data types\n",
    "df.dtypes"
   ]
  },
  {
   "cell_type": "markdown",
   "id": "0b2e801f",
   "metadata": {},
   "source": [
    "## Task 2a: Data Cleaning (Any Tool)\n",
    "\n",
    "1. Drop some of the unwanted columns. These include `host id`, `id`, `country` and `country code` from the dataset. \n",
    "2. State the reason for not including these columns for your Data Analytics.\n",
    "\n",
    "If using Python for this exercise, please include the code in the cells below. If using any other tool, please include screenshoots before and after the elimination of the columns."
   ]
  },
  {
   "cell_type": "code",
   "execution_count": 6,
   "id": "e098b2f6-4c85-499c-ab4e-198eccc24b5c",
   "metadata": {},
   "outputs": [
    {
     "data": {
      "text/plain": [
       "United States    102067\n",
       "Name: country, dtype: int64"
      ]
     },
     "execution_count": 6,
     "metadata": {},
     "output_type": "execute_result"
    }
   ],
   "source": [
    "df[\"country\"].value_counts()"
   ]
  },
  {
   "cell_type": "markdown",
   "id": "406fb62f-ff2f-48fa-926b-9ca3687e3940",
   "metadata": {},
   "source": [
    "This information from this airbnb dataset is just for New York so we can drop country and country code. We're not planning on conducting geospatial analysis so we can also drop latitude and longitude as neighbourhood will give us the location information we need. Host and listing name's are also not relevant and dropping that information aids anonymity."
   ]
  },
  {
   "cell_type": "code",
   "execution_count": 7,
   "id": "8e7e4ef5-8ce4-4071-911d-c370f164e19d",
   "metadata": {},
   "outputs": [],
   "source": [
    "d_col = [\"country\", \"country code\", \"host id\", \"id\", \"host name\", \"NAME\", \"lat\", \"long\"]"
   ]
  },
  {
   "cell_type": "code",
   "execution_count": 8,
   "id": "c1a4e51f-7f75-4614-a960-65bf0efddaa3",
   "metadata": {},
   "outputs": [
    {
     "data": {
      "text/plain": [
       "host_identity_verified             object\n",
       "neighbourhood group                object\n",
       "neighbourhood                      object\n",
       "instant_bookable                   object\n",
       "cancellation_policy                object\n",
       "room type                          object\n",
       "Construction year                 float64\n",
       "price                              object\n",
       "service fee                        object\n",
       "minimum nights                    float64\n",
       "number of reviews                 float64\n",
       "last review                        object\n",
       "reviews per month                 float64\n",
       "review rate number                float64\n",
       "calculated host listings count    float64\n",
       "availability 365                  float64\n",
       "house_rules                        object\n",
       "license                            object\n",
       "dtype: object"
      ]
     },
     "execution_count": 8,
     "metadata": {},
     "output_type": "execute_result"
    }
   ],
   "source": [
    "df.drop(d_col, axis=1, inplace=True)\n",
    "df.dtypes"
   ]
  },
  {
   "cell_type": "markdown",
   "id": "2071cce7",
   "metadata": {},
   "source": [
    "## Task 2b: Data Cleaning (Python)\n",
    "\n",
    "- Check for missing values in the dataframe and display the count in ascending order. **If the values are missing, impute the values as per the datatype of the columns.**\n",
    "- Check whether there are any duplicate values in the dataframe and, if present, remove them.\n",
    "- Display the total number of records in the dataframe before and after removing the duplicates."
   ]
  },
  {
   "cell_type": "code",
   "execution_count": 9,
   "id": "e78c0409",
   "metadata": {
    "tags": []
   },
   "outputs": [
    {
     "data": {
      "text/html": [
       "<div>\n",
       "<style scoped>\n",
       "    .dataframe tbody tr th:only-of-type {\n",
       "        vertical-align: middle;\n",
       "    }\n",
       "\n",
       "    .dataframe tbody tr th {\n",
       "        vertical-align: top;\n",
       "    }\n",
       "\n",
       "    .dataframe thead th {\n",
       "        text-align: right;\n",
       "    }\n",
       "</style>\n",
       "<table border=\"1\" class=\"dataframe\">\n",
       "  <thead>\n",
       "    <tr style=\"text-align: right;\">\n",
       "      <th></th>\n",
       "      <th>Missing Count</th>\n",
       "      <th>Proportion</th>\n",
       "    </tr>\n",
       "  </thead>\n",
       "  <tbody>\n",
       "    <tr>\n",
       "      <th>room type</th>\n",
       "      <td>0</td>\n",
       "      <td>0.000000</td>\n",
       "    </tr>\n",
       "    <tr>\n",
       "      <th>neighbourhood</th>\n",
       "      <td>16</td>\n",
       "      <td>0.000156</td>\n",
       "    </tr>\n",
       "    <tr>\n",
       "      <th>neighbourhood group</th>\n",
       "      <td>29</td>\n",
       "      <td>0.000283</td>\n",
       "    </tr>\n",
       "    <tr>\n",
       "      <th>cancellation_policy</th>\n",
       "      <td>76</td>\n",
       "      <td>0.000741</td>\n",
       "    </tr>\n",
       "    <tr>\n",
       "      <th>instant_bookable</th>\n",
       "      <td>105</td>\n",
       "      <td>0.001023</td>\n",
       "    </tr>\n",
       "    <tr>\n",
       "      <th>number of reviews</th>\n",
       "      <td>183</td>\n",
       "      <td>0.001784</td>\n",
       "    </tr>\n",
       "    <tr>\n",
       "      <th>Construction year</th>\n",
       "      <td>214</td>\n",
       "      <td>0.002086</td>\n",
       "    </tr>\n",
       "    <tr>\n",
       "      <th>price</th>\n",
       "      <td>247</td>\n",
       "      <td>0.002407</td>\n",
       "    </tr>\n",
       "    <tr>\n",
       "      <th>service fee</th>\n",
       "      <td>273</td>\n",
       "      <td>0.002661</td>\n",
       "    </tr>\n",
       "    <tr>\n",
       "      <th>host_identity_verified</th>\n",
       "      <td>289</td>\n",
       "      <td>0.002817</td>\n",
       "    </tr>\n",
       "    <tr>\n",
       "      <th>calculated host listings count</th>\n",
       "      <td>319</td>\n",
       "      <td>0.003109</td>\n",
       "    </tr>\n",
       "    <tr>\n",
       "      <th>review rate number</th>\n",
       "      <td>326</td>\n",
       "      <td>0.003177</td>\n",
       "    </tr>\n",
       "    <tr>\n",
       "      <th>minimum nights</th>\n",
       "      <td>409</td>\n",
       "      <td>0.003986</td>\n",
       "    </tr>\n",
       "    <tr>\n",
       "      <th>availability 365</th>\n",
       "      <td>448</td>\n",
       "      <td>0.004367</td>\n",
       "    </tr>\n",
       "    <tr>\n",
       "      <th>reviews per month</th>\n",
       "      <td>15879</td>\n",
       "      <td>0.154768</td>\n",
       "    </tr>\n",
       "    <tr>\n",
       "      <th>last review</th>\n",
       "      <td>15893</td>\n",
       "      <td>0.154904</td>\n",
       "    </tr>\n",
       "    <tr>\n",
       "      <th>house_rules</th>\n",
       "      <td>52131</td>\n",
       "      <td>0.508104</td>\n",
       "    </tr>\n",
       "    <tr>\n",
       "      <th>license</th>\n",
       "      <td>102597</td>\n",
       "      <td>0.999981</td>\n",
       "    </tr>\n",
       "  </tbody>\n",
       "</table>\n",
       "</div>"
      ],
      "text/plain": [
       "                                Missing Count  Proportion\n",
       "room type                                   0    0.000000\n",
       "neighbourhood                              16    0.000156\n",
       "neighbourhood group                        29    0.000283\n",
       "cancellation_policy                        76    0.000741\n",
       "instant_bookable                          105    0.001023\n",
       "number of reviews                         183    0.001784\n",
       "Construction year                         214    0.002086\n",
       "price                                     247    0.002407\n",
       "service fee                               273    0.002661\n",
       "host_identity_verified                    289    0.002817\n",
       "calculated host listings count            319    0.003109\n",
       "review rate number                        326    0.003177\n",
       "minimum nights                            409    0.003986\n",
       "availability 365                          448    0.004367\n",
       "reviews per month                       15879    0.154768\n",
       "last review                             15893    0.154904\n",
       "house_rules                             52131    0.508104\n",
       "license                                102597    0.999981"
      ]
     },
     "execution_count": 9,
     "metadata": {},
     "output_type": "execute_result"
    }
   ],
   "source": [
    "## Check for missing values in the dataframe and display the count in ascending order.\n",
    "missing_values = df.isna()\n",
    "missing_count = missing_values.sum().sort_values(ascending=True)\n",
    "\n",
    "# view the proportion of missing values\n",
    "proportion_missing = missing_values.sum() / len(df)\n",
    "proportion_count = proportion_missing.sort_values(ascending=True)\n",
    "\n",
    "side_by_side = pd.concat([missing_count, proportion_count], axis=1)\n",
    "side_by_side.columns = ['Missing Count', 'Proportion']\n",
    "side_by_side"
   ]
  },
  {
   "cell_type": "markdown",
   "id": "4a331bb9-9f66-4150-96fb-190ff1fb0605",
   "metadata": {},
   "source": [
    "License details are almost universally missing and we don't need them for analysis so we'll drop the column. House_rules also is missing over 50% of the values and isn't something you could accurately impute with the tools at hand (or possibly at all). \n",
    "\n",
    "Last review and reviews per month could be missing not at random. It could occur when the location itself simply has not received any reviews, this would explain why the missing figures are so similar for the two columns. We'll cross reference against number of reviews."
   ]
  },
  {
   "cell_type": "code",
   "execution_count": 10,
   "id": "1f7164b7-2023-47aa-a2e1-4af5781df5c2",
   "metadata": {},
   "outputs": [
    {
     "data": {
      "text/plain": [
       "(15734, 18)"
      ]
     },
     "execution_count": 10,
     "metadata": {},
     "output_type": "execute_result"
    }
   ],
   "source": [
    "# checking intuition on reviews confirms our suspicions\n",
    "df[df[\"number of reviews\"] == 0].shape"
   ]
  },
  {
   "cell_type": "code",
   "execution_count": 11,
   "id": "8f1247c1-a7a1-46bb-9f96-dc364503b51a",
   "metadata": {},
   "outputs": [],
   "source": [
    "df[\"number of reviews\"] = df[\"number of reviews\"].fillna(0)\n",
    "df[\"reviews per month\"] = df[\"reviews per month\"].fillna(0)\n",
    "df[\"last review\"] = df[\"last review\"].fillna(pd.NaT)"
   ]
  },
  {
   "cell_type": "code",
   "execution_count": 12,
   "id": "ae547144-370e-4b41-a59f-5f0405ae9b53",
   "metadata": {
    "tags": []
   },
   "outputs": [],
   "source": [
    "df.drop([\"house_rules\",\"license\"], axis=1, inplace=True)"
   ]
  },
  {
   "cell_type": "markdown",
   "id": "ce0dd9d1-e4f8-40fc-ac9c-c4a1763d5395",
   "metadata": {},
   "source": [
    "All other values are missing at a rate of <5% (and even <0.5%) so we could likely impute them without serious consequences to our analysis. We will impute price and service fee later after we've converted them to floats."
   ]
  },
  {
   "cell_type": "code",
   "execution_count": 13,
   "id": "fe3558bc-8bbc-4ffd-8561-839bb0593bc3",
   "metadata": {},
   "outputs": [
    {
     "data": {
      "text/plain": [
       "host_identity_verified              289\n",
       "neighbourhood group                  29\n",
       "neighbourhood                        16\n",
       "instant_bookable                    105\n",
       "cancellation_policy                  76\n",
       "room type                             0\n",
       "Construction year                   214\n",
       "price                               247\n",
       "service fee                         273\n",
       "minimum nights                      409\n",
       "number of reviews                     0\n",
       "last review                       15893\n",
       "reviews per month                     0\n",
       "review rate number                  326\n",
       "calculated host listings count      319\n",
       "availability 365                      0\n",
       "dtype: int64"
      ]
     },
     "execution_count": 13,
     "metadata": {},
     "output_type": "execute_result"
    }
   ],
   "source": [
    "df[\"host_identity_verified\"].fillna(df[\"host_identity_verified\"].mode(), inplace=True)\n",
    "df[\"instant_bookable\"].fillna(df[\"instant_bookable\"].mode(), inplace=True)\n",
    "df[\"cancellation_policy\"].fillna(df[\"cancellation_policy\"].mode(), inplace=True)\n",
    "df[\"availability 365\"].fillna(round(df[\"availability 365\"].mean(), 1), inplace=True)\n",
    "df.isna().sum()"
   ]
  },
  {
   "cell_type": "code",
   "execution_count": 16,
   "id": "7a691fba",
   "metadata": {},
   "outputs": [
    {
     "data": {
      "text/plain": [
       "3636"
      ]
     },
     "execution_count": 16,
     "metadata": {},
     "output_type": "execute_result"
    }
   ],
   "source": [
    "## Check whether there are any duplicate values in the dataframe and if present remove them.\n",
    "df.duplicated().sum()"
   ]
  },
  {
   "cell_type": "code",
   "execution_count": 17,
   "id": "cd02b741-f0ba-4f5a-aad5-a26621a04b31",
   "metadata": {},
   "outputs": [
    {
     "data": {
      "text/plain": [
       "98963"
      ]
     },
     "execution_count": 17,
     "metadata": {},
     "output_type": "execute_result"
    }
   ],
   "source": [
    "df.drop_duplicates(inplace=True)\n",
    "## Display the total number of records in the dataframe after removing the duplicates.\n",
    "df.shape[0]"
   ]
  },
  {
   "cell_type": "markdown",
   "id": "1bf8912c",
   "metadata": {},
   "source": [
    "## Task 3: Data Transformation (Any Tool)\n",
    "\n",
    "\n",
    "- Rename the column `availability 365` to `days_booked`\n",
    "- Convert all column names to lowercase and replace the spaces in the column names with an underscore \"_\".\n",
    "- Remove the dollar sign and comma from the columns `price` and `service_fee`. If necessary, convert these two columns to the appropriate data type.\n",
    "\n",
    "If using Python for this exercise, please include the code in the cells below. If using any other tool, please include screenshots of your work."
   ]
  },
  {
   "cell_type": "code",
   "execution_count": 18,
   "id": "3adf9b6b",
   "metadata": {},
   "outputs": [],
   "source": [
    "## Rename the column.\n",
    "df.rename(columns={\"availability 365\": \"days_booked\"}, inplace=True)"
   ]
  },
  {
   "cell_type": "code",
   "execution_count": 19,
   "id": "9e968504",
   "metadata": {},
   "outputs": [],
   "source": [
    "## Convert all column names to lowercase and replace the spaces with an underscore \"_\"\n",
    "for column in df.columns:\n",
    "    new_column = column.lower().replace(\" \", \"_\")\n",
    "    df.rename(columns={column: new_column}, inplace=True)"
   ]
  },
  {
   "cell_type": "code",
   "execution_count": 20,
   "id": "38430057",
   "metadata": {},
   "outputs": [],
   "source": [
    "## Remove the dollar sign and comma from the columns. If necessary, convert these two columns to the appropriate data type.\n",
    "df['price'] = df['price'].str.replace('$', '', regex=False).str.replace(',', '', regex=False).astype(float)\n",
    "df['service_fee'] = df['service_fee'].str.replace('$', '', regex=False).str.replace(',', '', regex=False).astype(float)"
   ]
  },
  {
   "cell_type": "markdown",
   "id": "e8718e2e-93f5-42ac-a1ce-f7cbdc9a7e42",
   "metadata": {},
   "source": [
    "We could easily implement an ML solution to predict price and service fees due to their simple and linear relationship (below) but that's excessive.\n",
    "Instead we'll replace the each missing value with the respective means of their corresponding neighbourhood group. We choose group because neighbourhoods can have too few values to give us a \n",
    "meaningful or accurate central tendency."
   ]
  },
  {
   "cell_type": "code",
   "execution_count": 21,
   "id": "daa826b9-52c4-4050-bb6a-8e6e10dee652",
   "metadata": {},
   "outputs": [
    {
     "data": {
      "text/plain": [
       "Manhattan        42292\n",
       "Brooklyn         40317\n",
       "Queens           12800\n",
       "Bronx             2608\n",
       "Staten Island      915\n",
       "brookln              1\n",
       "manhatan             1\n",
       "Name: neighbourhood_group, dtype: int64"
      ]
     },
     "execution_count": 21,
     "metadata": {},
     "output_type": "execute_result"
    }
   ],
   "source": [
    "df.neighbourhood_group.value_counts()"
   ]
  },
  {
   "cell_type": "code",
   "execution_count": 22,
   "id": "775e1bbf-7ec7-4d87-80c9-a69c5e27f96d",
   "metadata": {},
   "outputs": [],
   "source": [
    "# fix \"brookln\" and \"manhatan\"\n",
    "incorrect_rows = df[\"neighbourhood_group\"].isin([\"brookln\", \"manhatan\"])\n",
    "df.loc[incorrect_rows, \"neighbourhood_group\"] = df.loc[incorrect_rows, \"neighbourhood_group\"].replace(\"brookln\", \"Brooklyn\").replace(\"manhatan\", \"Manhattan\")"
   ]
  },
  {
   "cell_type": "code",
   "execution_count": 23,
   "id": "58ba5b35-2173-4448-9687-8372a77bb561",
   "metadata": {},
   "outputs": [],
   "source": [
    "# fill missing neighbourhood groups if the row has a neighbourhood corresponding to a known neighbourhood group\n",
    "missing_neighbourhood_group = df[\"neighbourhood_group\"].isnull() & ~df['neighbourhood'].isnull()\n",
    "mapping = df.loc[~df[\"neighbourhood_group\"].isnull(), [\"neighbourhood\", \"neighbourhood_group\"]]\n",
    "mapping = mapping.drop_duplicates().set_index(\"neighbourhood\")[\"neighbourhood_group\"].to_dict()\n",
    "df.loc[missing_neighbourhood_group, \"neighbourhood_group\"] = df.loc[missing_neighbourhood_group, 'neighbourhood'].map(mapping)"
   ]
  },
  {
   "cell_type": "code",
   "execution_count": 24,
   "id": "7b679e6f-2958-4e33-99a6-cb8311178633",
   "metadata": {},
   "outputs": [],
   "source": [
    "grouped_means = df.groupby(\"neighbourhood_group\")[[\"price\", \"service_fee\"]].mean()\n",
    "\n",
    "for index, row in df.iterrows():\n",
    "    if pd.isnull(row[\"price\"]):\n",
    "        df.at[index, \"price\"] = grouped_means.loc[row[\"neighbourhood_group\"], \"price\"]\n",
    "    if pd.isnull(row[\"service_fee\"]):\n",
    "        df.at[index, \"service_fee\"] = grouped_means.loc[row[\"neighbourhood_group\"], \"service_fee\"]"
   ]
  },
  {
   "cell_type": "code",
   "execution_count": 25,
   "id": "c81ccbbe-b76e-49ed-9002-b25697c7c4e6",
   "metadata": {},
   "outputs": [],
   "source": [
    "# change last_review to a datetime data type\n",
    "df['last_review'] = pd.to_datetime(df['last_review'], format = \"%m/%d/%Y\")"
   ]
  },
  {
   "cell_type": "markdown",
   "id": "e1313dd5-0767-4109-b7d7-710efc8b722e",
   "metadata": {},
   "source": [
    "We also notice anomalies in the minimum nights data"
   ]
  },
  {
   "cell_type": "code",
   "execution_count": 26,
   "id": "35fb86f0-4a07-4943-bb93-cd620efc1f9b",
   "metadata": {},
   "outputs": [
    {
     "data": {
      "text/plain": [
       "<Axes: xlabel='minimum_nights'>"
      ]
     },
     "execution_count": 26,
     "metadata": {},
     "output_type": "execute_result"
    },
    {
     "data": {
      "image/png": "[encoded data removed]",
      "text/plain": [
       "<Figure size 640x480 with 1 Axes>"
      ]
     },
     "metadata": {},
     "output_type": "display_data"
    }
   ],
   "source": [
    "sns.boxplot(x = \"minimum_nights\", data = df)"
   ]
  },
  {
   "cell_type": "markdown",
   "id": "b419afcd-baf6-4a22-9e27-387a838da548",
   "metadata": {},
   "source": [
    "Something is clearly wrong with our minimum night values. They should at least be non-negative and not exceeding 2000 days, at least. The cluster around 1000 implies that there may be a reason for it, such as a few listings requiring you to rent out the location for a number of years. More information is needed."
   ]
  },
  {
   "cell_type": "code",
   "execution_count": 27,
   "id": "a748f2ce-2a75-4244-98ae-1aaad53b3124",
   "metadata": {},
   "outputs": [
    {
     "ename": "KeyError",
     "evalue": "'minimum nights'",
     "output_type": "error",
     "traceback": [
      "\u001b[1;31m---------------------------------------------------------------------------\u001b[0m",
      "\u001b[1;31mKeyError\u001b[0m                                  Traceback (most recent call last)",
      "File \u001b[1;32mC:\\ProgramData\\anaconda3\\lib\\site-packages\\pandas\\core\\indexes\\base.py:3802\u001b[0m, in \u001b[0;36mIndex.get_loc\u001b[1;34m(self, key, method, tolerance)\u001b[0m\n\u001b[0;32m   3801\u001b[0m \u001b[38;5;28;01mtry\u001b[39;00m:\n\u001b[1;32m-> 3802\u001b[0m     \u001b[38;5;28;01mreturn\u001b[39;00m \u001b[38;5;28;43mself\u001b[39;49m\u001b[38;5;241;43m.\u001b[39;49m\u001b[43m_engine\u001b[49m\u001b[38;5;241;43m.\u001b[39;49m\u001b[43mget_loc\u001b[49m\u001b[43m(\u001b[49m\u001b[43mcasted_key\u001b[49m\u001b[43m)\u001b[49m\n\u001b[0;32m   3803\u001b[0m \u001b[38;5;28;01mexcept\u001b[39;00m \u001b[38;5;167;01mKeyError\u001b[39;00m \u001b[38;5;28;01mas\u001b[39;00m err:\n",
      "File \u001b[1;32mC:\\ProgramData\\anaconda3\\lib\\site-packages\\pandas\\_libs\\index.pyx:138\u001b[0m, in \u001b[0;36mpandas._libs.index.IndexEngine.get_loc\u001b[1;34m()\u001b[0m\n",
      "File \u001b[1;32mC:\\ProgramData\\anaconda3\\lib\\site-packages\\pandas\\_libs\\index.pyx:165\u001b[0m, in \u001b[0;36mpandas._libs.index.IndexEngine.get_loc\u001b[1;34m()\u001b[0m\n",
      "File \u001b[1;32mpandas\\_libs\\hashtable_class_helper.pxi:5745\u001b[0m, in \u001b[0;36mpandas._libs.hashtable.PyObjectHashTable.get_item\u001b[1;34m()\u001b[0m\n",
      "File \u001b[1;32mpandas\\_libs\\hashtable_class_helper.pxi:5753\u001b[0m, in \u001b[0;36mpandas._libs.hashtable.PyObjectHashTable.get_item\u001b[1;34m()\u001b[0m\n",
      "\u001b[1;31mKeyError\u001b[0m: 'minimum nights'",
      "\nThe above exception was the direct cause of the following exception:\n",
      "\u001b[1;31mKeyError\u001b[0m                                  Traceback (most recent call last)",
      "Cell \u001b[1;32mIn[27], line 3\u001b[0m\n\u001b[0;32m      1\u001b[0m \u001b[38;5;66;03m# replace missing values with 0, set all negative minimum_nights to zero and \u001b[39;00m\n\u001b[0;32m      2\u001b[0m \u001b[38;5;66;03m# replace those above the 2000 minimum night threshold with the median\u001b[39;00m\n\u001b[1;32m----> 3\u001b[0m df[\u001b[38;5;124m\"\u001b[39m\u001b[38;5;124mminimum nights\u001b[39m\u001b[38;5;124m\"\u001b[39m] \u001b[38;5;241m=\u001b[39m \u001b[43mdf\u001b[49m\u001b[43m[\u001b[49m\u001b[38;5;124;43m\"\u001b[39;49m\u001b[38;5;124;43mminimum nights\u001b[39;49m\u001b[38;5;124;43m\"\u001b[39;49m\u001b[43m]\u001b[49m\u001b[38;5;241m.\u001b[39mfillna(\u001b[38;5;241m0\u001b[39m)\n\u001b[0;32m      4\u001b[0m df\u001b[38;5;241m.\u001b[39mloc[df[\u001b[38;5;124m\"\u001b[39m\u001b[38;5;124mminimum_nights\u001b[39m\u001b[38;5;124m\"\u001b[39m] \u001b[38;5;241m<\u001b[39m \u001b[38;5;241m0\u001b[39m, \u001b[38;5;124m\"\u001b[39m\u001b[38;5;124mminimum_nights\u001b[39m\u001b[38;5;124m\"\u001b[39m] \u001b[38;5;241m=\u001b[39m \u001b[38;5;241m0\u001b[39m\n\u001b[0;32m      5\u001b[0m threshold \u001b[38;5;241m=\u001b[39m \u001b[38;5;241m2000\u001b[39m\n",
      "File \u001b[1;32mC:\\ProgramData\\anaconda3\\lib\\site-packages\\pandas\\core\\frame.py:3807\u001b[0m, in \u001b[0;36mDataFrame.__getitem__\u001b[1;34m(self, key)\u001b[0m\n\u001b[0;32m   3805\u001b[0m \u001b[38;5;28;01mif\u001b[39;00m \u001b[38;5;28mself\u001b[39m\u001b[38;5;241m.\u001b[39mcolumns\u001b[38;5;241m.\u001b[39mnlevels \u001b[38;5;241m>\u001b[39m \u001b[38;5;241m1\u001b[39m:\n\u001b[0;32m   3806\u001b[0m     \u001b[38;5;28;01mreturn\u001b[39;00m \u001b[38;5;28mself\u001b[39m\u001b[38;5;241m.\u001b[39m_getitem_multilevel(key)\n\u001b[1;32m-> 3807\u001b[0m indexer \u001b[38;5;241m=\u001b[39m \u001b[38;5;28;43mself\u001b[39;49m\u001b[38;5;241;43m.\u001b[39;49m\u001b[43mcolumns\u001b[49m\u001b[38;5;241;43m.\u001b[39;49m\u001b[43mget_loc\u001b[49m\u001b[43m(\u001b[49m\u001b[43mkey\u001b[49m\u001b[43m)\u001b[49m\n\u001b[0;32m   3808\u001b[0m \u001b[38;5;28;01mif\u001b[39;00m is_integer(indexer):\n\u001b[0;32m   3809\u001b[0m     indexer \u001b[38;5;241m=\u001b[39m [indexer]\n",
      "File \u001b[1;32mC:\\ProgramData\\anaconda3\\lib\\site-packages\\pandas\\core\\indexes\\base.py:3804\u001b[0m, in \u001b[0;36mIndex.get_loc\u001b[1;34m(self, key, method, tolerance)\u001b[0m\n\u001b[0;32m   3802\u001b[0m     \u001b[38;5;28;01mreturn\u001b[39;00m \u001b[38;5;28mself\u001b[39m\u001b[38;5;241m.\u001b[39m_engine\u001b[38;5;241m.\u001b[39mget_loc(casted_key)\n\u001b[0;32m   3803\u001b[0m \u001b[38;5;28;01mexcept\u001b[39;00m \u001b[38;5;167;01mKeyError\u001b[39;00m \u001b[38;5;28;01mas\u001b[39;00m err:\n\u001b[1;32m-> 3804\u001b[0m     \u001b[38;5;28;01mraise\u001b[39;00m \u001b[38;5;167;01mKeyError\u001b[39;00m(key) \u001b[38;5;28;01mfrom\u001b[39;00m \u001b[38;5;21;01merr\u001b[39;00m\n\u001b[0;32m   3805\u001b[0m \u001b[38;5;28;01mexcept\u001b[39;00m \u001b[38;5;167;01mTypeError\u001b[39;00m:\n\u001b[0;32m   3806\u001b[0m     \u001b[38;5;66;03m# If we have a listlike key, _check_indexing_error will raise\u001b[39;00m\n\u001b[0;32m   3807\u001b[0m     \u001b[38;5;66;03m#  InvalidIndexError. Otherwise we fall through and re-raise\u001b[39;00m\n\u001b[0;32m   3808\u001b[0m     \u001b[38;5;66;03m#  the TypeError.\u001b[39;00m\n\u001b[0;32m   3809\u001b[0m     \u001b[38;5;28mself\u001b[39m\u001b[38;5;241m.\u001b[39m_check_indexing_error(key)\n",
      "\u001b[1;31mKeyError\u001b[0m: 'minimum nights'"
     ]
    }
   ],
   "source": [
    "# replace missing values with 0, set all negative minimum_nights to zero and \n",
    "# replace those above the 2000 minimum night threshold with the median\n",
    "df[\"minimum_nights\"] = df[\"minimum_nights\"].fillna(0)\n",
    "df.loc[df[\"minimum_nights\"] < 0, \"minimum_nights\"] = 0\n",
    "threshold = 2000\n",
    "df.loc[df[\"minimum_nights\"] > threshold, \"minimum_nights\"] = df[\"minimum_nights\"].median()"
   ]
  },
  {
   "cell_type": "code",
   "execution_count": null,
   "id": "4048df30-a7c5-4003-800c-f87f441617bb",
   "metadata": {},
   "outputs": [],
   "source": [
    "df.dtypes"
   ]
  },
  {
   "cell_type": "markdown",
   "id": "f5fdef8b",
   "metadata": {},
   "source": [
    "### Task 4: Exploratory Data Analysis (Any Tool)\n",
    "\n",
    "- List the count of various room types avaliable in the dataset.\n",
    "- Which room type has the most strict cancellation policy?\n",
    "- List the average price per neighborhood group, and highlight the most expensive neighborhood to rent from.\n",
    "\n",
    "If using Python for this exercise, please include the code in the cells below. If using any other tool, please include screenshoots of your work."
   ]
  },
  {
   "cell_type": "code",
   "execution_count": null,
   "id": "c171e196",
   "metadata": {},
   "outputs": [],
   "source": [
    "## List the count of various room types avaliable with Airbnb\n",
    "df[\"room_type\"].value_counts()"
   ]
  },
  {
   "cell_type": "code",
   "execution_count": null,
   "id": "88321208-c487-4cc3-b0b5-d2a151f7913d",
   "metadata": {},
   "outputs": [],
   "source": [
    "df[\"cancellation_policy\"].value_counts()"
   ]
  },
  {
   "cell_type": "code",
   "execution_count": null,
   "id": "7f651811",
   "metadata": {},
   "outputs": [],
   "source": [
    "## Which room type adheres to more strict cancellation policy\n",
    "cross_tab = pd.crosstab(df['cancellation_policy'], df['room_type'])\n",
    "ax = sns.heatmap(cross_tab, annot=True, cmap='YlGnBu', fmt='d')\n",
    "ax.set_yticklabels(ax.get_yticklabels(), rotation=0, ha=\"right\")\n",
    "ax.set_xticklabels(ax.get_xticklabels(), rotation=45, ha=\"right\")\n",
    "ax.set_xlabel(\"Room Type\")\n",
    "ax.set_ylabel(\"Cancellation Policy\")\n",
    "for _, spine in ax.spines.items():\n",
    "    spine.set_visible(True)\n",
    "\n",
    "# Display the plot\n",
    "plt.show()"
   ]
  },
  {
   "cell_type": "markdown",
   "id": "9b0dc4dc-dd76-425b-9435-55238d6d00b8",
   "metadata": {},
   "source": [
    "None of the room types have that significant of a difference but shared rooms have more locations with strict cancellation policies, 699 against 695 and 685 locations with moderate and flexible policies respectively."
   ]
  },
  {
   "cell_type": "code",
   "execution_count": null,
   "id": "d01c1ac4",
   "metadata": {},
   "outputs": [],
   "source": [
    "## List the prices by neighborhood group and also mention which is the most expensive neighborhood group for rentals\n",
    "df_neighbourhoodg = df.groupby(\"neighbourhood_group\")"
   ]
  },
  {
   "cell_type": "code",
   "execution_count": null,
   "id": "a290032e-9314-4e43-a617-62e85009bbee",
   "metadata": {},
   "outputs": [],
   "source": [
    "df_neighbourhoodg['price'].mean().sort_values(ascending=False)"
   ]
  },
  {
   "cell_type": "code",
   "execution_count": 28,
   "id": "d40ff3ce-3491-4497-9f25-7f48dfb57dff",
   "metadata": {
    "tags": []
   },
   "outputs": [
    {
     "ename": "NameError",
     "evalue": "name 'df_neighbourhoodg' is not defined",
     "output_type": "error",
     "traceback": [
      "\u001b[1;31m---------------------------------------------------------------------------\u001b[0m",
      "\u001b[1;31mNameError\u001b[0m                                 Traceback (most recent call last)",
      "Cell \u001b[1;32mIn[28], line 1\u001b[0m\n\u001b[1;32m----> 1\u001b[0m \u001b[43mdf_neighbourhoodg\u001b[49m[\u001b[38;5;124m'\u001b[39m\u001b[38;5;124mprice\u001b[39m\u001b[38;5;124m'\u001b[39m]\u001b[38;5;241m.\u001b[39mmedian()\u001b[38;5;241m.\u001b[39msort_values(ascending\u001b[38;5;241m=\u001b[39m\u001b[38;5;28;01mFalse\u001b[39;00m)\n",
      "\u001b[1;31mNameError\u001b[0m: name 'df_neighbourhoodg' is not defined"
     ]
    }
   ],
   "source": [
    "df_neighbourhoodg['price'].median().sort_values(ascending=False)"
   ]
  },
  {
   "cell_type": "markdown",
   "id": "c48794b7-e595-49fb-903b-d523d2692d0a",
   "metadata": {},
   "source": [
    "The most expensive neighbourhood group by mean is Queens. However, this could be due to some particularly expensive outlier listings as the median for the Bronx is $10 higher."
   ]
  },
  {
   "cell_type": "markdown",
   "id": "ca3ed1e6",
   "metadata": {},
   "source": [
    "## Task 5a: Data Visualization (Any Tool)\n",
    "\n",
    "- Create a horizontal bar chart to display the top 10 most expensive neighborhoods in the dataset.\n",
    "    - Create another chart with the 10 cheapest neighborhoods in the dataset.\n",
    "- Create a box and whisker chart that showcases the price distribution of all listings split by room type.\n",
    "\n",
    "If using Python for this exercise, please include the code in the cells below. If using any other tool, please include screenshoots of your work."
   ]
  },
  {
   "cell_type": "code",
   "execution_count": null,
   "id": "c0f5c146-0cc6-4fe5-b5b3-7804dd9d40e7",
   "metadata": {
    "tags": []
   },
   "outputs": [],
   "source": [
    "df.columns.unique()"
   ]
  },
  {
   "cell_type": "markdown",
   "id": "58f6fc94-c755-404f-87fb-db54c04679d8",
   "metadata": {},
   "source": [
    "We'll display the top 10 most expensive neighbourhoods by grouping by neighbourhood and looking through the mean of their respective prices, taking the top 10  and converting it back into a dataframe rather than a groupby object. We'll do something similar for the least expensive."
   ]
  },
  {
   "cell_type": "code",
   "execution_count": null,
   "id": "4e5a6b74",
   "metadata": {},
   "outputs": [],
   "source": [
    "df_neighbourhood_prices_high = df.groupby('neighbourhood')['price'].mean().nlargest(10).reset_index()\n",
    "sns.barplot(x=\"price\", y=\"neighbourhood\", data=df_neighbourhood_prices_high)\n",
    "plt.title(\"Top 10 most expensive neighbourhoods\")"
   ]
  },
  {
   "cell_type": "code",
   "execution_count": null,
   "id": "6ddf361a-94f4-4938-93dd-1f6336e451d6",
   "metadata": {},
   "outputs": [],
   "source": [
    "df_neighbourhood_prices_low = df.groupby('neighbourhood')['price'].mean().nsmallest(10).reset_index()\n",
    "sns.barplot(x=\"price\", y=\"neighbourhood\", data=df_neighbourhood_prices_low)\n",
    "plt.title(\"Top 10 least expensive neighbourhoods\")"
   ]
  },
  {
   "cell_type": "code",
   "execution_count": null,
   "id": "1d567723",
   "metadata": {},
   "outputs": [],
   "source": [
    "sns.boxplot(x='room_type',y='price', data=df)\n",
    "plt.xlabel(\"Room Type\")\n",
    "plt.ylabel(\"Price\")"
   ]
  },
  {
   "cell_type": "markdown",
   "id": "9c313303",
   "metadata": {},
   "source": [
    "## Task 5b: Data Visualization (Any Tool)\n",
    "\n",
    "- Create a scatter plot to illustrate the relationship between the cleaning fee and the room price and write down the kind of correlation, if any, that you see.\n",
    "- Create a line chart to showcase the total amount of listings built in each year.\n",
    "\n",
    "If using Python for this exercise, please include the code in the cells below. If using any other tool, please include screenshoots of your work."
   ]
  },
  {
   "cell_type": "code",
   "execution_count": null,
   "id": "27848a88-dfbb-48f5-bf90-ecacbb724d42",
   "metadata": {},
   "outputs": [],
   "source": [
    "sns.scatterplot(x='price', y='service_fee', color = 'g', data=df)\n",
    "plt.xlabel('Room Price ($)')\n",
    "plt.ylabel('Cleaning Fee ($)')\n",
    "plt.title('Room Price vs. Cleaning Fee')\n",
    "plt.show()"
   ]
  },
  {
   "cell_type": "markdown",
   "id": "cfc6c915-5ac2-439c-b05c-8abe178d68cd",
   "metadata": {},
   "source": [
    "There is a very strong positive correlation between price and cleaning/service fee. It looks almost like a perfectly linear relationship. We could easily impute missing cleaning/service fees and room prices "
   ]
  },
  {
   "cell_type": "code",
   "execution_count": null,
   "id": "1321b407-1cbf-4b5e-8cd9-08e293b47f51",
   "metadata": {},
   "outputs": [],
   "source": [
    "sns.lineplot(x = \"construction_year\", y = \"price\", data = df)\n",
    "plt.xlabel(\"Construction Year\")\n",
    "plt.ylabel(\"Price\")\n",
    "plt.title(\"Listing Construction Year vs. Price\")"
   ]
  },
  {
   "cell_type": "markdown",
   "id": "91bad4cd-8f04-46ab-99d7-91dd57152465",
   "metadata": {},
   "source": [
    "We don't see any real pattern in price against construction year but there are some spikes in the earlier builds, perhaps surprisingly. It might be that they are storied older builds in affluent parts of the city but would need further investigation."
   ]
  },
  {
   "cell_type": "code",
   "execution_count": null,
   "id": "fc4a1652-4b3e-4d4c-886d-90db037ea3a6",
   "metadata": {},
   "outputs": [],
   "source": [
    "sns.countplot(x = \"construction_year\", data = df)\n",
    "plt.xticks(rotation=45)\n",
    "plt.xlabel(\"Construction Year\")\n",
    "plt.ylabel(\"Count\")\n",
    "plt.show()"
   ]
  },
  {
   "cell_type": "markdown",
   "id": "eb9c86ad-ebd8-463b-bfcb-8b9f65df0e1b",
   "metadata": {},
   "source": [
    "There's a very even distribution in the construction years of the properties, nothing else to note. "
   ]
  },
  {
   "cell_type": "markdown",
   "id": "9db2466c",
   "metadata": {},
   "source": [
    "## Task 5c: Data Visualization (Any Tool)\n",
    "\n",
    "- Create a data visualization of your choosing using one of the review columns in isolation or in combination with another column.\n",
    "- Create a visualization to compare at least two different variables between verified and unverified hosts.\n",
    "\n",
    "If using Python for this exercise, please include the code in the cells below. If using any other tool, please include screenshoots of your work."
   ]
  },
  {
   "cell_type": "code",
   "execution_count": null,
   "id": "3f1fb0c3",
   "metadata": {},
   "outputs": [],
   "source": [
    "sns.countplot(x = \"host_identity_verified\", data=df)\n",
    "plt.xlabel(\"Host Identity Verification Status\")\n",
    "plt.ylabel(\"Count\")\n",
    "plt.title(\"Host Verification Status\")"
   ]
  },
  {
   "cell_type": "markdown",
   "id": "437dd3aa-f2d9-4545-bee7-85d7019c0ec2",
   "metadata": {},
   "source": [
    "It's surprising that the number of hosts with unconfirmed identities are comporable with and even exceed those with verified identities especially when one might consider the risks associated with staying at someone else's property. People may feel less comfortable using airbnb if this were the general case."
   ]
  },
  {
   "cell_type": "code",
   "execution_count": null,
   "id": "06e42da1-260b-4c4c-b9d6-6b73efdbf24c",
   "metadata": {},
   "outputs": [],
   "source": [
    "pd.crosstab(df.host_identity_verified, df.neighbourhood_group)"
   ]
  },
  {
   "cell_type": "code",
   "execution_count": null,
   "id": "21ca4161-5663-4c3d-9bfd-a783836f0091",
   "metadata": {},
   "outputs": [],
   "source": [
    "pd.crosstab(df.host_identity_verified, df.cancellation_policy)"
   ]
  },
  {
   "cell_type": "code",
   "execution_count": null,
   "id": "67f7d0ba-c080-4a7b-86d8-9a9286015360",
   "metadata": {},
   "outputs": [],
   "source": [
    "df.groupby(\"host_identity_verified\")[\"price\"].mean()"
   ]
  },
  {
   "cell_type": "code",
   "execution_count": null,
   "id": "22444c88-c3cc-47d4-bc00-ab4d010171f8",
   "metadata": {},
   "outputs": [],
   "source": [
    "df.groupby(\"host_identity_verified\")[\"minimum_nights\"].mean()"
   ]
  },
  {
   "cell_type": "code",
   "execution_count": null,
   "id": "22f55255-549f-45a5-8e3e-8cdd80c59883",
   "metadata": {},
   "outputs": [],
   "source": [
    "df.groupby(\"host_identity_verified\")[\"days_booked\"].mean()"
   ]
  },
  {
   "cell_type": "code",
   "execution_count": null,
   "id": "d45ed567-3467-45aa-8854-57d9c045e2d4",
   "metadata": {},
   "outputs": [],
   "source": [
    "df.head()"
   ]
  }
 ],
 "metadata": {
  "kernelspec": {
   "display_name": "Python 3 (ipykernel)",
   "language": "python",
   "name": "python3"
  },
  "language_info": {
   "codemirror_mode": {
    "name": "ipython",
    "version": 3
   },
   "file_extension": ".py",
   "mimetype": "text/x-python",
   "name": "python",
   "nbconvert_exporter": "python",
   "pygments_lexer": "ipython3",
   "version": "3.10.9"
  },
  "nteract": {
   "version": "0.28.0"
  }
 },
 "nbformat": 4,
 "nbformat_minor": 5
}
